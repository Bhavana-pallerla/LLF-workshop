{
  "cells": [
    {
      "cell_type": "code",
      "execution_count": 1,
      "metadata": {
        "colab": {
          "base_uri": "https://localhost:8080/"
        },
        "id": "mjXNC6BShJIT",
        "outputId": "53c31197-89db-48e5-d9e4-4c5713b005c5"
      },
      "outputs": [
        {
          "name": "stdout",
          "output_type": "stream",
          "text": [
            "46\n"
          ]
        }
      ],
      "source": [
        "#Funtion to find sum of numbers in a list\n",
        "#import numpy as np\n",
        "def list_sum(x):\n",
        "  total=0\n",
        "  for i in x:\n",
        "    total=total+i\n",
        "  return total\n",
        "print(list_sum([1,3,5,7,9,10,11]))\n",
        "\n"
      ]
    },
    {
      "cell_type": "code",
      "execution_count": null,
      "metadata": {
        "colab": {
          "base_uri": "https://localhost:8080/"
        },
        "id": "T1lDNsxIi7cL",
        "outputId": "056caf51-a42b-460a-bce9-d74550fa72ee"
      },
      "outputs": [
        {
          "name": "stdout",
          "output_type": "stream",
          "text": [
            "['a', 'e', 'i', 'a', 'e', 'a', 'a','a','a']\n"
          ]
        }
      ],
      "source": [
        "def vowel_count():\n",
        "  string=\"My name is Pallerla Bhavana\"\n",
        "  list=['a','e','i','o','u']\n",
        "  vowels=[i for i in string if i in list]\n",
        "  print(vowels)\n",
        "\n",
        "vowel_count()"
      ]
    },
    {
      "cell_type": "code",
      "execution_count": null,
      "metadata": {
        "colab": {
          "base_uri": "https://localhost:8080/"
        },
        "id": "S9QUl_3tZz-t",
        "outputId": "2eeaf95a-dddc-4edc-d8a7-42359616ad60"
      },
      "outputs": [
        {
          "name": "stdout",
          "output_type": "stream",
          "text": [
            "97\n",
            "a\n"
          ]
        }
      ],
      "source": [
        "print(ord('a'))\n",
        "print(chr(97))"
      ]
    },
    {
      "cell_type": "code",
      "execution_count": null,
      "metadata": {
        "colab": {
          "base_uri": "https://localhost:8080/"
        },
        "id": "QPo8DYRPbN6b",
        "outputId": "fa30ba35-e9db-4189-d6be-4ae908e9331f"
      },
      "outputs": [
        {
          "name": "stdout",
          "output_type": "stream",
          "text": [
            "yszezmz\n"
          ]
        }
      ],
      "source": [
        "value=\"Bhavana\"\n",
        "encrypted_message=\"\"\n",
        "for i in value.lower():\n",
        "  if i.isalpha():\n",
        "    encrypted_message+=chr(219-ord(i))\n",
        "  elif i==\" \":\n",
        "    encrypted_message+=\"**\"\n",
        "  else:\n",
        "    encrypted_message+=i\n",
        "print(encrypted_message)"
      ]
    }
  ],
  "metadata": {
    "colab": {
      "provenance": []
    },
    "kernelspec": {
      "display_name": "Python 3",
      "name": "python3"
    },
    "language_info": {
      "codemirror_mode": {
        "name": "ipython",
        "version": 3
      },
      "file_extension": ".py",
      "mimetype": "text/x-python",
      "name": "python",
      "nbconvert_exporter": "python",
      "pygments_lexer": "ipython3",
      "version": "3.12.2"
    }
  },
  "nbformat": 4,
  "nbformat_minor": 0
}
